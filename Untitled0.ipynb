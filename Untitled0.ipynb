{
  "nbformat": 4,
  "nbformat_minor": 0,
  "metadata": {
    "colab": {
      "provenance": [],
      "authorship_tag": "ABX9TyMf29Xhspy7uWJxX88LYfV0",
      "include_colab_link": true
    },
    "kernelspec": {
      "name": "python3",
      "display_name": "Python 3"
    },
    "language_info": {
      "name": "python"
    }
  },
  "cells": [
    {
      "cell_type": "markdown",
      "metadata": {
        "id": "view-in-github",
        "colab_type": "text"
      },
      "source": [
        "<a href=\"https://colab.research.google.com/github/fahmi551/colab_sol/blob/main/Untitled0.ipynb\" target=\"_parent\"><img src=\"https://colab.research.google.com/assets/colab-badge.svg\" alt=\"Open In Colab\"/></a>"
      ]
    },
    {
      "cell_type": "code",
      "execution_count": null,
      "metadata": {
        "id": "2ra1vUU33aB7"
      },
      "outputs": [],
      "source": [
        "# 1. Examples\n",
        "my_list = [1, 2, 3]\n",
        "my_dict = {\"name\": \"Alice\", \"age\": 25}\n",
        "import numpy as np\n",
        "my_array = np.array([1, 2, 3])\n",
        "\n",
        "# 2. Function to square even numbers\n",
        "def square_even_numbers(lst):\n",
        "    return [x**2 for x in lst if x % 2 == 0]\n",
        "\n",
        "square_even_numbers([10, 15, 20, 25, 30])\n",
        "\n",
        "# 3. Code Output and Why\n",
        "x = [1, 2, 3]\n",
        "y = x\n",
        "y.append(4)\n",
        "print(x)\n",
        "\n",
        "\n",
        "# 4. shape and describe()\n",
        "import pandas as pd\n",
        "df = pd.DataFrame({\n",
        "    \"A\": [1, 2, 3],\n",
        "    \"B\": [4, 5, 6]\n",
        "})\n",
        "df.shape\n",
        "df.describe()\n",
        "\n",
        "# 5. Load CSV and print first 5 rows\n",
        "df = pd.read_csv(\"airtravel.csv\")\n",
        "print(df.head())\n",
        "\n",
        "\n",
        "# 6. Load airtravel.csv and analyze\n",
        "df[\"Total\"] = df.iloc[:, 1:].sum(axis=1)\n",
        "highest_month = df.loc[df[\"Total\"].idxmax(), \"Month\"]\n",
        "lowest_1958 = df.loc[df[\"1958\"].idxmin(), \"Month\"]\n",
        "print(highest_month)\n",
        "print(lowest_1958)\n",
        "\n",
        "# 7. groupby() Example\n",
        "data = pd.DataFrame({\n",
        "    \"Team\": [\"A\", \"A\", \"B\", \"B\"],\n",
        "    \"Score\": [10, 20, 30, 40]\n",
        "})\n",
        "grouped = data.groupby(\"Team\").mean()\n",
        "\n",
        "# 8. Missing values in Titanic\n",
        "import seaborn as sns\n",
        "titanic = sns.load_dataset(\"titanic\")\n",
        "titanic.isnull().sum()\n",
        "\n",
        "# 9. Age Distribution\n",
        "titanic[\"age\"].hist()\n",
        "\n",
        "\n",
        "# 10. High Standard Deviation\n",
        "import numpy as np\n",
        "low_std = [5, 5, 5, 5, 5]\n",
        "high_std = [1, 10, 20, 30, 40]\n",
        "np.std(low_std), np.std(high_std)\n",
        "\n",
        "# 11. Real-world problems with missing data\n",
        "# 1. Medical diagnosis data missing patient symptoms\n",
        "# 2. Financial datasets missing transaction records\n",
        "\n"
      ]
    },
    {
      "cell_type": "markdown",
      "source": [],
      "metadata": {
        "id": "kvrU_KZQE-_b"
      }
    },
    {
      "cell_type": "markdown",
      "source": [],
      "metadata": {
        "id": "yO9u6qffEqFX"
      }
    },
    {
      "cell_type": "markdown",
      "source": [
        "#3  Output: [1, 2, 3, 4]\n",
        "# Because y and x reference the same list in memory\n",
        "#4 Output: (3, 2)\n",
        "#5 Notice: The data has months as rows and years as columns\n",
        "#9 Shape: Right-skewed (positively skewed)\n",
        "# Reason: Many younger passengers; fewer older ones\n",
        "# 11. Real-world problems with missing data\n",
        "# 1. Medical diagnosis data missing patient symptoms\n",
        "# 2. Financial datasets missing transaction records"
      ],
      "metadata": {
        "id": "wK6nPWbGEsCZ"
      }
    },
    {
      "cell_type": "markdown",
      "source": [],
      "metadata": {
        "id": "6eUIh8C2FMp7"
      }
    }
  ]
}